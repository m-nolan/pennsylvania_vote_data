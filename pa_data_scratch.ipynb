{
 "cells": [
  {
   "cell_type": "code",
   "execution_count": 1,
   "metadata": {},
   "outputs": [],
   "source": [
    "import json\n",
    "import pandas as pd\n",
    "import requests as req"
   ]
  },
  {
   "cell_type": "code",
   "execution_count": 10,
   "metadata": {},
   "outputs": [],
   "source": [
    "# gas_url = 'https://www.electionreturns.pa.gov/_ENR/api/ElectionReturn/GetOfficeData?officeId=12&methodName=GetOfficeDetails&electionid=83&electiontype=G&isactive=0'    # 2020\n",
    "gas_url = 'https://www.electionreturns.pa.gov/_ENR/api/ElectionReturn/GetOfficeData?officeId=12&methodName=GetOfficeDetails&electionid=94&electiontype=G&isactive=0'    # 2022\n",
    "gar_url = 'https://www.electionreturns.pa.gov/_ENR/api/ElectionReturn/GetOfficeData?officeId=13&methodName=GetOfficeDetails&electionid=83&electiontype=G&isactive=0'    # 2020\n",
    "# gar_url = 'https://www.electionreturns.pa.gov/_ENR/api/ElectionReturn/GetOfficeData?officeId=13&methodName=GetOfficeDetails&electionid=94&electiontype=G&isactive=0'    # 2022"
   ]
  },
  {
   "cell_type": "code",
   "execution_count": 11,
   "metadata": {},
   "outputs": [],
   "source": [
    "gas_data = json.loads(req.get(gas_url).json())['Election']['Senator in the General Assembly'][0]\n",
    "gar_data = json.loads(req.get(gar_url).json())['Election']['Representative in the General Assembly'][0]"
   ]
  },
  {
   "cell_type": "code",
   "execution_count": 13,
   "metadata": {},
   "outputs": [],
   "source": [
    "gas_2022_dict_list = []\n",
    "for k, v in gas_data.items():\n",
    "    district_dict = {\n",
    "        'District':k.split('$')[0],\n",
    "        'Democrat':None,\n",
    "        'Republican':None,\n",
    "        'Dem Percent':None,\n",
    "        'Rep Percent':None\n",
    "    }\n",
    "    for c_dict in v[0]['Candidates']:\n",
    "        if c_dict['PartyName'] == 'DEM':\n",
    "            district_dict['Democrat'] = c_dict['CandidateName']\n",
    "            district_dict['Dem Percent'] = c_dict['Percentage']\n",
    "        elif c_dict['PartyName'] == 'REP':\n",
    "            district_dict['Republican'] = c_dict['CandidateName']\n",
    "            district_dict['Rep Percent'] = c_dict['Percentage']\n",
    "    gas_2022_dict_list.append(district_dict)\n",
    "gas_2022_df = pd.DataFrame.from_dict(gas_2022_dict_list)\n",
    "gas_2022_df.to_csv('./pa_gas_2022.csv')\n"
   ]
  },
  {
   "cell_type": "code",
   "execution_count": 14,
   "metadata": {},
   "outputs": [],
   "source": [
    "gar_2020_dict_list = []\n",
    "for k, v in gar_data.items():\n",
    "    district_dict = {\n",
    "        'District':k.split('$')[0],\n",
    "        'Democrat':None,\n",
    "        'Republican':None,\n",
    "        'Dem Percent':None,\n",
    "        'Rep Percent':None\n",
    "    }\n",
    "    for c_dict in v[0]['Candidates']:\n",
    "        if c_dict['PartyName'] == 'DEM':\n",
    "            district_dict['Democrat'] = c_dict['CandidateName']\n",
    "            district_dict['Dem Percent'] = c_dict['Percentage']\n",
    "        elif c_dict['PartyName'] == 'REP':\n",
    "            district_dict['Republican'] = c_dict['CandidateName']\n",
    "            district_dict['Rep Percent'] = c_dict['Percentage']\n",
    "    gar_2020_dict_list.append(district_dict)\n",
    "gar_2020_df = pd.DataFrame.from_dict(gar_2020_dict_list)\n",
    "gar_2020_df.to_csv('./pa_gar_2022.csv')"
   ]
  },
  {
   "cell_type": "code",
   "execution_count": null,
   "metadata": {},
   "outputs": [],
   "source": []
  }
 ],
 "metadata": {
  "kernelspec": {
   "display_name": "data_rep",
   "language": "python",
   "name": "python3"
  },
  "language_info": {
   "codemirror_mode": {
    "name": "ipython",
    "version": 3
   },
   "file_extension": ".py",
   "mimetype": "text/x-python",
   "name": "python",
   "nbconvert_exporter": "python",
   "pygments_lexer": "ipython3",
   "version": "3.10.14"
  }
 },
 "nbformat": 4,
 "nbformat_minor": 2
}
